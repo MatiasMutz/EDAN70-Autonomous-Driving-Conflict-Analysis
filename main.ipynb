{
 "cells": [
  {
   "cell_type": "markdown",
   "id": "c5181d591cea5ff1",
   "metadata": {},
   "source": [
    "The first thing we do is to import the necessary libraries. As seen in the dataset github repository (https://github.com/RomainLITUD/conflict_resolution_dataset) we need to import the following libraries:"
   ]
  },
  {
   "cell_type": "code",
   "execution_count": null,
   "id": "a41051d7e72b2ed1",
   "metadata": {},
   "outputs": [],
   "source": [
    "import numpy as np\n",
    "from scipy.io import loadmat\n",
    "import matplotlib.pyplot as plt\n",
    "import os"
   ]
  },
  {
   "cell_type": "markdown",
   "id": "2ee3e385ab90a894",
   "metadata": {},
   "source": [
    "Read and visualize data:"
   ]
  },
  {
   "cell_type": "code",
   "execution_count": 4,
   "id": "1f56a797544bb651",
   "metadata": {
    "ExecuteTime": {
     "end_time": "2025-03-28T11:12:14.564020Z",
     "start_time": "2025-03-28T11:12:14.532421Z"
    }
   },
   "outputs": [
    {
     "name": "stdout",
     "output_type": "stream",
     "text": [
      "Number of scenarios for Autonomous Vehicles:  5337\n",
      "Number of scenarios for Human-driven Vehicles:  16094\n"
     ]
    }
   ],
   "source": [
    "import zarr\n",
    "import os\n",
    "from dataset.visual_utils import *\n",
    "\n",
    "folder_av = 'av'\n",
    "folder_hv = 'hv'\n",
    "\n",
    "root_av = './dataset/data_3m/'+folder_av+'/'\n",
    "root_hv = './dataset/data_3m/'+folder_hv+'/'\n",
    "\n",
    "log_ids_av = [name for name in os.listdir(root_av) if os.path.isdir(os.path.join(root_av, name))]\n",
    "log_ids_hv = [name for name in os.listdir(root_hv) if os.path.isdir(os.path.join(root_hv, name))]\n",
    "\n",
    "print('Number of scenarios for Autonomous Vehicles: ', len(log_ids_av))\n",
    "print('Number of scenarios for Human-driven Vehicles: ', len(log_ids_hv))\n"
   ]
  }
 ],
 "metadata": {
  "kernelspec": {
   "display_name": "conflict-resolution",
   "language": "python",
   "name": "python3"
  },
  "language_info": {
   "codemirror_mode": {
    "name": "ipython",
    "version": 3
   },
   "file_extension": ".py",
   "mimetype": "text/x-python",
   "name": "python",
   "nbconvert_exporter": "python",
   "pygments_lexer": "ipython3",
   "version": "3.9.21"
  }
 },
 "nbformat": 4,
 "nbformat_minor": 5
}
